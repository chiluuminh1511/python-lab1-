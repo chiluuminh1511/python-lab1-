{
 "cells": [
  {
   "cell_type": "code",
   "execution_count": 14,
   "metadata": {},
   "outputs": [
    {
     "name": "stdout",
     "output_type": "stream",
     "text": [
      "     class cap-shape cap-surface  ... spore-print-color population habitat\n",
      "0        p         x           s  ...                 k          s       u\n",
      "3        p         x           y  ...                 k          s       u\n",
      "8        p         x           y  ...                 k          v       g\n",
      "13       p         x           y  ...                 n          v       u\n",
      "17       p         x           s  ...                 k          s       g\n",
      "...    ...       ...         ...  ...               ...        ...     ...\n",
      "8114     p         f           y  ...                 w          c       d\n",
      "8116     p         k           y  ...                 w          v       l\n",
      "8117     p         k           s  ...                 w          v       d\n",
      "8118     p         k           y  ...                 w          v       d\n",
      "8122     p         k           y  ...                 w          v       l\n",
      "\n",
      "[3916 rows x 23 columns]\n",
      "     class cap-shape cap-surface  ... spore-print-color population habitat\n",
      "1        e         x           s  ...                 n          n       g\n",
      "2        e         b           s  ...                 n          n       m\n",
      "4        e         x           s  ...                 n          a       g\n",
      "5        e         x           y  ...                 k          n       g\n",
      "6        e         b           s  ...                 k          n       m\n",
      "...    ...       ...         ...  ...               ...        ...     ...\n",
      "8115     e         x           s  ...                 o          v       l\n",
      "8119     e         k           s  ...                 b          c       l\n",
      "8120     e         x           s  ...                 b          v       l\n",
      "8121     e         f           s  ...                 b          c       l\n",
      "8123     e         x           s  ...                 o          c       l\n",
      "\n",
      "[4208 rows x 23 columns]\n"
     ]
    }
   ],
   "source": [
    "\n",
    "\n",
    "import numpy as np\n",
    "import pandas as pd\n",
    "from matplotlib import pyplot as plt\n",
    "from sklearn.linear_model import LinearRegression\n",
    "from sklearn.metrics import mean_squared_error, r2_score\n",
    "from sklearn.model_selection import train_test_split\n",
    "from sklearn.tree import DecisionTreeClassifier \n",
    "from sklearn.linear_model import LogisticRegression\n",
    "\n",
    "\n",
    "path='/home/chi/Desktop/anaconda-navigator/Lab 1/mushrooms.csv'\n",
    "\n",
    "dataset = pd.read_csv(path)\n",
    "df1 = dataset[dataset['class'] == 'p']\n",
    "df2 = dataset[dataset['class'] == 'e']\n",
    "print(df1)\n",
    "print(df2)\n",
    "\n",
    "\n",
    "# Creating independent and dependent variables\n",
    "x = dataset.iloc[:,1:].values\n",
    "y = dataset.iloc[:,0].values\n",
    "\n",
    "\n",
    "\n",
    "# Categories in each feature x\n",
    "column_list = dataset.columns.values.tolist()\n",
    "\n",
    "\n",
    "# Label encoding y - dependent variable\n",
    "from sklearn.preprocessing import LabelEncoder\n",
    "le = LabelEncoder()\n",
    "y = le.fit_transform(y)\n",
    "\n",
    "\n",
    "\n",
    "# One hot encoding independent variable x\n",
    "\n",
    "from sklearn.compose import ColumnTransformer\n",
    "from sklearn.preprocessing import OneHotEncoder\n",
    "onehotencoder = OneHotEncoder()\n",
    "x = onehotencoder.fit_transform(x).toarray()\n",
    "\n",
    "\n",
    "\n",
    "# Splitting the dataset into training set and test set\n",
    "from sklearn.model_selection import train_test_split\n",
    "x_train, x_test, y_train, y_test = train_test_split(x, y, test_size = 0.2, random_state=0)\n",
    "\n",
    "\n",
    "\n",
    "\n"
   ]
  },
  {
   "cell_type": "code",
   "execution_count": 15,
   "metadata": {},
   "outputs": [],
   "source": [
    "# Applying PCA\n",
    "from sklearn.decomposition import PCA\n",
    "pca = PCA(n_components = 3)\n",
    "x_train = pca.fit_transform(x_train)\n",
    "x_test = pca.transform(x_test)\n"
   ]
  },
  {
   "cell_type": "code",
   "execution_count": 16,
   "metadata": {},
   "outputs": [
    {
     "data": {
      "text/plain": [
       "LogisticRegression(random_state=0)"
      ]
     },
     "execution_count": 16,
     "metadata": {},
     "output_type": "execute_result"
    }
   ],
   "source": [
    "\n",
    "\n",
    "# Training the Logistic Regression Model on the Training set\n",
    "from sklearn.linear_model import LogisticRegression\n",
    "classifier = LogisticRegression(random_state = 0)\n",
    "classifier.fit(x_train, y_train)\n",
    "\n"
   ]
  },
  {
   "cell_type": "code",
   "execution_count": 17,
   "metadata": {},
   "outputs": [],
   "source": [
    "# Predicting the test set\n",
    "y_pred = classifier.predict(x_test)\n",
    "\n"
   ]
  },
  {
   "cell_type": "code",
   "execution_count": 18,
   "metadata": {},
   "outputs": [
    {
     "name": "stdout",
     "output_type": "stream",
     "text": [
      "[[815  37]\n",
      " [157 616]]\n",
      "0.8806153846153846\n"
     ]
    }
   ],
   "source": [
    "\n",
    "\n",
    "# Making the confusion matrix and calculating accuracy score\n",
    "acscore = []\n",
    "from sklearn.metrics import confusion_matrix, accuracy_score\n",
    "cm = confusion_matrix(y_test, y_pred)\n",
    "ac = accuracy_score(y_test, y_pred)\n",
    "acscore.append(ac)\n",
    "print(cm)\n",
    "print(ac)\n",
    "\n"
   ]
  },
  {
   "cell_type": "code",
   "execution_count": null,
   "metadata": {},
   "outputs": [],
   "source": []
  }
 ],
 "metadata": {
  "kernelspec": {
   "display_name": "Python 3",
   "language": "python",
   "name": "python3"
  },
  "language_info": {
   "codemirror_mode": {
    "name": "ipython",
    "version": 3
   },
   "file_extension": ".py",
   "mimetype": "text/x-python",
   "name": "python",
   "nbconvert_exporter": "python",
   "pygments_lexer": "ipython3",
   "version": "3.8.3"
  }
 },
 "nbformat": 4,
 "nbformat_minor": 4
}
